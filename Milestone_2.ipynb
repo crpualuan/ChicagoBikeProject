{
 "cells": [
  {
   "cell_type": "code",
   "execution_count": null,
   "id": "60dd94d4",
   "metadata": {},
   "outputs": [],
   "source": [
    "# Milestone 2"
   ]
  }
 ],
 "metadata": {
  "language_info": {
   "name": "python"
  }
 },
 "nbformat": 4,
 "nbformat_minor": 5
}
