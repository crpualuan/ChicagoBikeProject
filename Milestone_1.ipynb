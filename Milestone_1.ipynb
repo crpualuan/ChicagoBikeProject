{
 "cells": [
  {
   "cell_type": "markdown",
   "id": "73eaf1dd",
   "metadata": {},
   "source": [
    "# 'Milestone 1 - Chicago, U.S. bikesharing'\n",
    "\n",
    "`source`: \n",
    "https://data.cityofchicago.org/Transportation/Divvy-Trips/fg6s-gzvg/about_data \n",
    "\n",
    "`mobility domain`:\n",
    "https://data.cityofchicago.org/\n"
   ]
  },
  {
   "cell_type": "markdown",
   "id": "cbf681f4",
   "metadata": {},
   "source": [
    "# 'What variable are we trying to predict?'\n",
    "\n",
    "`trip duration` "
   ]
  },
  {
   "cell_type": "markdown",
   "id": "e291c3c7",
   "metadata": {},
   "source": [
    "# 'Data preparation'\n",
    "\n",
    "Since the dataset given has a total of roughly **21 million rows**, we are reducing the size of the date before downloading it. In order to do that, we have used the query function to filter the rows. \n",
    "For the data the following queries where used:\n",
    "\n",
    "`TRIP_ID` is greater than or equal to 22,000,000 AND\n",
    "\n",
    "`TRIP_ID` is less than or equal to 22,200,000"
   ]
  },
  {
   "cell_type": "markdown",
   "id": "6a30f33a",
   "metadata": {},
   "source": [
    "todo list:\n",
    "- null values -> how to handle it\n",
    "-> \n",
    "- which features are important, which ones to drop and why?\n",
    "- in which python environment are we working?\n",
    "- which new columns to add? (potentially new data)\n",
    "- choose appropriate model to visualize the cleaned dataset"
   ]
  },
  {
   "cell_type": "code",
   "execution_count": 1,
   "id": "654bedf6",
   "metadata": {},
   "outputs": [
    {
     "name": "stdout",
     "output_type": "stream",
     "text": [
      "<class 'pandas.core.frame.DataFrame'>\n",
      "RangeIndex: 169540 entries, 0 to 169539\n",
      "Data columns (total 18 columns):\n",
      " #   Column             Non-Null Count   Dtype  \n",
      "---  ------             --------------   -----  \n",
      " 0   TRIP ID            169540 non-null  int64  \n",
      " 1   START TIME         169540 non-null  object \n",
      " 2   STOP TIME          169540 non-null  object \n",
      " 3   BIKE ID            169540 non-null  int64  \n",
      " 4   TRIP DURATION      169540 non-null  int64  \n",
      " 5   FROM STATION ID    169540 non-null  int64  \n",
      " 6   FROM STATION NAME  169540 non-null  object \n",
      " 7   TO STATION ID      169540 non-null  int64  \n",
      " 8   TO STATION NAME    169540 non-null  object \n",
      " 9   USER TYPE          169540 non-null  object \n",
      " 10  GENDER             156307 non-null  object \n",
      " 11  BIRTH YEAR         157020 non-null  float64\n",
      " 12  FROM LATITUDE      169536 non-null  float64\n",
      " 13  FROM LONGITUDE     169536 non-null  float64\n",
      " 14  FROM LOCATION      169536 non-null  object \n",
      " 15  TO LATITUDE        169530 non-null  float64\n",
      " 16  TO LONGITUDE       169530 non-null  float64\n",
      " 17  TO LOCATION        169530 non-null  object \n",
      "dtypes: float64(5), int64(5), object(8)\n",
      "memory usage: 23.3+ MB\n"
     ]
    }
   ],
   "source": [
    "import pandas as pd\n",
    "import numpy as np\n",
    "import matplotlib as plt\n",
    "import geopandas as gpd\n",
    "import seaborn as sns\n",
    "\n",
    "bike_set = pd.read_csv(\"Divvy_Trips_20250516.csv\", sep=\",\")\n",
    "bike_set.info()"
   ]
  },
  {
   "cell_type": "markdown",
   "id": "213fc737",
   "metadata": {},
   "source": [
    "\n",
    "We can observe that there are six rows with missing `TO LATITUDE`, `TO LONGITUDE`, `TO LOCATION`, `FROM LATITUDE`, `FROM LONGITUDE` and `FROM LOCATION`. These six rows can be deleted without a significant impact on the general dataset.\n",
    "A larger portion of missing values can be seen for the columns `GENDER` and `BIRTH YEAR`. Here a larger amount of rows, roughly 12,000 to 13,000 rows are missing. One solution that has been suggested is to analyze the ratio of male to female bike riders and distribute the rows with missing genders accordingly. But due to the size of missing values we have decided as a group to delete them instead in order to keep the integrity of the data set as well as the correlation to other features. Despite the deletion of those rows, the data is still contains sufficient observations with over 100,000 rows. \n"
   ]
  },
  {
   "cell_type": "code",
   "execution_count": 3,
   "id": "8a6471a0",
   "metadata": {},
   "outputs": [
    {
     "name": "stdout",
     "output_type": "stream",
     "text": [
      "<class 'pandas.core.frame.DataFrame'>\n",
      "Index: 156296 entries, 0 to 169539\n",
      "Data columns (total 18 columns):\n",
      " #   Column             Non-Null Count   Dtype  \n",
      "---  ------             --------------   -----  \n",
      " 0   TRIP ID            156296 non-null  int64  \n",
      " 1   START TIME         156296 non-null  object \n",
      " 2   STOP TIME          156296 non-null  object \n",
      " 3   BIKE ID            156296 non-null  int64  \n",
      " 4   TRIP DURATION      156296 non-null  int64  \n",
      " 5   FROM STATION ID    156296 non-null  int64  \n",
      " 6   FROM STATION NAME  156296 non-null  object \n",
      " 7   TO STATION ID      156296 non-null  int64  \n",
      " 8   TO STATION NAME    156296 non-null  object \n",
      " 9   USER TYPE          156296 non-null  object \n",
      " 10  GENDER             156296 non-null  object \n",
      " 11  BIRTH YEAR         156296 non-null  float64\n",
      " 12  FROM LATITUDE      156296 non-null  float64\n",
      " 13  FROM LONGITUDE     156296 non-null  float64\n",
      " 14  FROM LOCATION      156296 non-null  object \n",
      " 15  TO LATITUDE        156296 non-null  float64\n",
      " 16  TO LONGITUDE       156296 non-null  float64\n",
      " 17  TO LOCATION        156296 non-null  object \n",
      "dtypes: float64(5), int64(5), object(8)\n",
      "memory usage: 22.7+ MB\n"
     ]
    }
   ],
   "source": [
    "# to do -> delete null rows\n",
    "# März bis April\n",
    "bike_set = bike_set.dropna()\n",
    "\n",
    "# test if the data is clean\n",
    "bike_set.info()"
   ]
  },
  {
   "cell_type": "code",
   "execution_count": null,
   "id": "460bf366",
   "metadata": {},
   "outputs": [],
   "source": [
    "# drop irrelevant columns/features#\n",
    "# backup\n"
   ]
  }
 ],
 "metadata": {
  "kernelspec": {
   "display_name": "DSML_env",
   "language": "python",
   "name": "python3"
  },
  "language_info": {
   "codemirror_mode": {
    "name": "ipython",
    "version": 3
   },
   "file_extension": ".py",
   "mimetype": "text/x-python",
   "name": "python",
   "nbconvert_exporter": "python",
   "pygments_lexer": "ipython3",
   "version": "3.13.2"
  }
 },
 "nbformat": 4,
 "nbformat_minor": 5
}
