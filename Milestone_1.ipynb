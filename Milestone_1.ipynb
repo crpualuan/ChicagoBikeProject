{
 "cells": [
  {
   "cell_type": "markdown",
   "id": "73eaf1dd",
   "metadata": {},
   "source": [
    "# Milestone 1 - Chicago, U.S. bikesharing\n",
    "\n",
    "`Source`: \n",
    "https://data.cityofchicago.org/Transportation/Divvy-Trips/fg6s-gzvg/about_data \n",
    "\n",
    "`Mobility domain`:\n",
    "https://data.cityofchicago.org/\n",
    "\n",
    "`Github repository`:\n",
    "https://github.com/kbui-03/ChicagoBikeProject\n"
   ]
  },
  {
   "cell_type": "markdown",
   "id": "cbf681f4",
   "metadata": {},
   "source": [
    "# Target feature of the model: `TRIP DURATION` \n",
    "\n",
    "By predicting the duration of each trip, we can:\n",
    "+ Optimise charging times of electric bikes\n",
    "+ Present customers with an estimated payment recommendation\n",
    "+ Reduce bike shortages in rush hour\n",
    "+ Provide the City of Chicago with data, which could be used to improve public transportation, healthcare, or public outreach  "
   ]
  },
  {
   "cell_type": "markdown",
   "id": "e291c3c7",
   "metadata": {},
   "source": [
    "# Data preparation\n",
    "\n",
    "Since the dataset given has a total of roughly **21 million rows**, we need to reduce the size of the data before downloading. In order to do that, we used the provided query function to filter the rows: \n",
    "\n",
    "`TRIP_ID` is greater than or equal to 22,000,000 AND\n",
    "\n",
    "`TRIP_ID` is less than or equal to 22,200,000\n",
    "\n",
    "This left us with about roughly 170.000 unique bike rides to work with, in the time frame of March 2019. We hypothesise that March is a good general representative of the whole year for a model to learn from, since:\n",
    "+ It represents the switch from cold winter months to warmer summer/spring weather, the model therefore might learn to account for these temperature changes \n",
    "+ In the same vein, the amount of precipitation/snow also represents a switch from rainy/snowy winter to sunny summer. The model should, in theory, learn these patterns \n",
    "\n",
    "**Source**: https://www.ncei.noaa.gov/access/services/data/v1?dataset=normals-monthly-1991-2020&startDate=0001-01-01&endDate=9996-12-31&stations=USC00111577&format=pdf"
   ]
  },
  {
   "cell_type": "code",
   "execution_count": 59,
   "id": "654bedf6",
   "metadata": {},
   "outputs": [
    {
     "name": "stdout",
     "output_type": "stream",
     "text": [
      "<class 'pandas.core.frame.DataFrame'>\n",
      "RangeIndex: 169540 entries, 0 to 169539\n",
      "Data columns (total 18 columns):\n",
      " #   Column             Non-Null Count   Dtype  \n",
      "---  ------             --------------   -----  \n",
      " 0   TRIP ID            169540 non-null  int64  \n",
      " 1   START TIME         169540 non-null  object \n",
      " 2   STOP TIME          169540 non-null  object \n",
      " 3   BIKE ID            169540 non-null  int64  \n",
      " 4   TRIP DURATION      169540 non-null  int64  \n",
      " 5   FROM STATION ID    169540 non-null  int64  \n",
      " 6   FROM STATION NAME  169540 non-null  object \n",
      " 7   TO STATION ID      169540 non-null  int64  \n",
      " 8   TO STATION NAME    169540 non-null  object \n",
      " 9   USER TYPE          169540 non-null  object \n",
      " 10  GENDER             156307 non-null  object \n",
      " 11  BIRTH YEAR         157020 non-null  float64\n",
      " 12  FROM LATITUDE      169536 non-null  float64\n",
      " 13  FROM LONGITUDE     169536 non-null  float64\n",
      " 14  FROM LOCATION      169536 non-null  object \n",
      " 15  TO LATITUDE        169530 non-null  float64\n",
      " 16  TO LONGITUDE       169530 non-null  float64\n",
      " 17  TO LOCATION        169530 non-null  object \n",
      "dtypes: float64(5), int64(5), object(8)\n",
      "memory usage: 23.3+ MB\n"
     ]
    }
   ],
   "source": [
    "import pandas as pd\n",
    "import numpy as np\n",
    "import matplotlib.pyplot as plt\n",
    "import seaborn as sns\n",
    "\n",
    "bike_set = pd.read_csv(\"Divvy_Trips_Chicago.csv\", sep=\",\")\n",
    "bike_set.info()"
   ]
  },
  {
   "cell_type": "markdown",
   "id": "213fc737",
   "metadata": {},
   "source": [
    "# Cleaning the dataset\n",
    "**Row-wise deletion**\n",
    "\n",
    "We can observe that there are rows missing `TO LATITUDE`, `TO LONGITUDE`, `TO LOCATION`, `FROM LATITUDE`, `FROM LONGITUDE` and `FROM LOCATION`. These few rows (four to ten rows) can be deleted without a significant impact on the general dataset.\n",
    "\n",
    "A larger portion of missing values can be seen for the columns `GENDER` and `BIRTH YEAR`. Here, a larger amount of rows, roughly 12,000 to 13,000 rows, are missing. One possible solution for dealing with the missing values is by **imputation**. In this case, it has been suggested to analyze the ratio of male to female bike riders and distribute the rows with missing genders accordingly. But due to the size of missing values we, as a group, have decided to delete them instead, in order to keep the integrity of the dataset as well as the correlation to other features. \n",
    "\n",
    "Despite the deletion of those rows, the data still contains sufficient observations with over 100,000 rows which fulfills the given minimum observation requirement.\n"
   ]
  },
  {
   "cell_type": "code",
   "execution_count": 60,
   "id": "46a36162",
   "metadata": {},
   "outputs": [
    {
     "name": "stdout",
     "output_type": "stream",
     "text": [
      "<class 'pandas.core.frame.DataFrame'>\n",
      "Index: 156296 entries, 0 to 169539\n",
      "Data columns (total 18 columns):\n",
      " #   Column             Non-Null Count   Dtype  \n",
      "---  ------             --------------   -----  \n",
      " 0   TRIP ID            156296 non-null  int64  \n",
      " 1   START TIME         156296 non-null  object \n",
      " 2   STOP TIME          156296 non-null  object \n",
      " 3   BIKE ID            156296 non-null  int64  \n",
      " 4   TRIP DURATION      156296 non-null  int64  \n",
      " 5   FROM STATION ID    156296 non-null  int64  \n",
      " 6   FROM STATION NAME  156296 non-null  object \n",
      " 7   TO STATION ID      156296 non-null  int64  \n",
      " 8   TO STATION NAME    156296 non-null  object \n",
      " 9   USER TYPE          156296 non-null  object \n",
      " 10  GENDER             156296 non-null  object \n",
      " 11  BIRTH YEAR         156296 non-null  float64\n",
      " 12  FROM LATITUDE      156296 non-null  float64\n",
      " 13  FROM LONGITUDE     156296 non-null  float64\n",
      " 14  FROM LOCATION      156296 non-null  object \n",
      " 15  TO LATITUDE        156296 non-null  float64\n",
      " 16  TO LONGITUDE       156296 non-null  float64\n",
      " 17  TO LOCATION        156296 non-null  object \n",
      "dtypes: float64(5), int64(5), object(8)\n",
      "memory usage: 22.7+ MB\n"
     ]
    }
   ],
   "source": [
    "#deletion of rows with null values\n",
    "bike_clean_1 = bike_set.dropna()\n",
    "bike_clean_1.info()"
   ]
  },
  {
   "cell_type": "markdown",
   "id": "54254576",
   "metadata": {},
   "source": [
    "# Feature Selection (column-wise deletion)\n",
    "\n",
    "**Correlation criteria**: \n",
    "\n",
    "- One can observe that `FROM LONGITUDE` and `FROM LATITUDE` are highly correlated to `FROM LOCATION`, which results in redundant information. This also applies to the features `TO LONGITUDE`, `TO LATITUDE` and `TO LOCATION`.\n",
    "- Also, `FROM STATION ID` and `FROM STATION NAME` as well as `TO STATION ID` and `TO STATION NAME` are highly correlated. Therefore, only one feature of each category is needed.\n",
    "- `START TIME` in combination with `STOP TIME` provides the similar information value as `TRIP DURATION`. One can extract the duration with these features. Since trip duration is the core of our model and including `STOP TIME` will result in a data leakage, the stop time will be removed. \n",
    "\n",
    "---\n",
    "\n",
    "- The `TRIP ID` does not offer much explanatory power and does not contribute to the predictability of the target feature `TRIP DURATION`. This feature is relevant for uniquely identifying rows while analyzing and processing the data, but not for training the model itself. Hence, this feature will be removed for the cleaned dataset. \n",
    "- `TO STATION ID` and `TO STATION NAME` will also be removed from the cleaned dataset since the destination of the trip is not given at the start but rather up to the user. The feature therefore has no use in predicting trip durations. This reasoning also applies to `TO LATITUDE`, `TO LONGITUDE` and `TO LOCATION`. \n"
   ]
  },
  {
   "cell_type": "code",
   "execution_count": 61,
   "id": "5477b608",
   "metadata": {},
   "outputs": [
    {
     "data": {
      "image/png": "[encoded data removed]",
      "text/plain": [
       "<Figure size 800x800 with 1 Axes>"
      ]
     },
     "metadata": {},
     "output_type": "display_data"
    }
   ],
   "source": [
    "#distribution of birth year\n",
    "birth_year_counter = bike_clean_1[\"BIRTH YEAR\"].astype(int).value_counts().sort_index()\n",
    "\n",
    "plt.figure(figsize = (8,8))\n",
    "plt.bar(birth_year_counter.index, birth_year_counter.values)\n",
    "\n",
    "plt.xlabel(\"birth year\")\n",
    "plt.ylabel(\"user count\")\n",
    "plt.title(\"bike-rider by users' birth year\")\n",
    "plt.grid()\n",
    "plt.show()"
   ]
  },
  {
   "cell_type": "markdown",
   "id": "78947a41",
   "metadata": {},
   "source": [
    "---\n",
    "Anomalies in `birth year`   \n",
    "As one can observe, there are a few outliers in the year 1900 and 1920. It is highly unlikey that a user is older than 105 years and furthermore, the likelihood of a user of that age to ride a bike is even smaller. That is the reason, why these anomalies will be disregarded "
   ]
  },
  {
   "cell_type": "code",
   "execution_count": 62,
   "id": "408dd3fe",
   "metadata": {},
   "outputs": [],
   "source": [
    "# remove anomalies in bike data, all rows with birth year before 1940\n",
    "bike_clean_1 = bike_clean_1[bike_clean_1[\"BIRTH YEAR\"] >= 1940]"
   ]
  },
  {
   "cell_type": "markdown",
   "id": "786c681d",
   "metadata": {},
   "source": [
    "# Birth year to age conversion \n",
    "\n",
    "Since age is a more general and intuitive feature than birth year, it should be converted. We do this by subtracting 2019 (year of the data set) by `BIRTH YEAR`, afterwards, this column can be safely removed since we have extracted all the necessary information. "
   ]
  },
  {
   "cell_type": "code",
   "execution_count": 63,
   "id": "823f8ee8",
   "metadata": {},
   "outputs": [],
   "source": [
    "# converting birth year to age\n",
    "bike_clean_1[\"AGE\"] = (2019-bike_clean_1[\"BIRTH YEAR\"]).astype(int)"
   ]
  },
  {
   "cell_type": "code",
   "execution_count": 64,
   "id": "56d54488",
   "metadata": {},
   "outputs": [
    {
     "data": {
      "image/png": "[encoded data removed]",
      "text/plain": [
       "<Figure size 1000x800 with 1 Axes>"
      ]
     },
     "metadata": {},
     "output_type": "display_data"
    }
   ],
   "source": [
    "# distribution of age after clean up\n",
    "age_counter = bike_clean_1[\"AGE\"].astype(int).value_counts().sort_index()\n",
    "\n",
    "plt.figure(figsize = (10,8))\n",
    "plt.bar(age_counter.index, age_counter.values)\n",
    "plt.xlabel(\"age\")\n",
    "plt.ylabel(\"user count\")\n",
    "\n",
    "plt.title(\"bike-rider by users' age\")\n",
    "# plt.grid()\n",
    "plt.show()"
   ]
  },
  {
   "cell_type": "code",
   "execution_count": 65,
   "id": "9ec80d14",
   "metadata": {},
   "outputs": [
    {
     "data": {
      "text/html": [
       "<div>\n",
       "<style scoped>\n",
       "    .dataframe tbody tr th:only-of-type {\n",
       "        vertical-align: middle;\n",
       "    }\n",
       "\n",
       "    .dataframe tbody tr th {\n",
       "        vertical-align: top;\n",
       "    }\n",
       "\n",
       "    .dataframe thead th {\n",
       "        text-align: right;\n",
       "    }\n",
       "</style>\n",
       "<table border=\"1\" class=\"dataframe\">\n",
       "  <thead>\n",
       "    <tr style=\"text-align: right;\">\n",
       "      <th></th>\n",
       "      <th>START TIME</th>\n",
       "      <th>BIKE ID</th>\n",
       "      <th>TRIP DURATION</th>\n",
       "      <th>FROM STATION ID</th>\n",
       "      <th>USER TYPE</th>\n",
       "      <th>GENDER</th>\n",
       "      <th>FROM LATITUDE</th>\n",
       "      <th>FROM LONGITUDE</th>\n",
       "      <th>AGE</th>\n",
       "    </tr>\n",
       "  </thead>\n",
       "  <tbody>\n",
       "    <tr>\n",
       "      <th>0</th>\n",
       "      <td>04/03/2019 08:29:54 AM</td>\n",
       "      <td>5313</td>\n",
       "      <td>537</td>\n",
       "      <td>18</td>\n",
       "      <td>Subscriber</td>\n",
       "      <td>Male</td>\n",
       "      <td>41.883132</td>\n",
       "      <td>-87.637321</td>\n",
       "      <td>37</td>\n",
       "    </tr>\n",
       "    <tr>\n",
       "      <th>1</th>\n",
       "      <td>04/03/2019 08:29:52 AM</td>\n",
       "      <td>5884</td>\n",
       "      <td>224</td>\n",
       "      <td>137</td>\n",
       "      <td>Subscriber</td>\n",
       "      <td>Male</td>\n",
       "      <td>41.862378</td>\n",
       "      <td>-87.651062</td>\n",
       "      <td>54</td>\n",
       "    </tr>\n",
       "    <tr>\n",
       "      <th>2</th>\n",
       "      <td>04/03/2019 08:29:52 AM</td>\n",
       "      <td>4048</td>\n",
       "      <td>1085</td>\n",
       "      <td>210</td>\n",
       "      <td>Subscriber</td>\n",
       "      <td>Male</td>\n",
       "      <td>41.903450</td>\n",
       "      <td>-87.667747</td>\n",
       "      <td>32</td>\n",
       "    </tr>\n",
       "    <tr>\n",
       "      <th>3</th>\n",
       "      <td>04/03/2019 08:29:50 AM</td>\n",
       "      <td>2638</td>\n",
       "      <td>309</td>\n",
       "      <td>96</td>\n",
       "      <td>Subscriber</td>\n",
       "      <td>Male</td>\n",
       "      <td>41.884616</td>\n",
       "      <td>-87.644571</td>\n",
       "      <td>31</td>\n",
       "    </tr>\n",
       "    <tr>\n",
       "      <th>4</th>\n",
       "      <td>04/03/2019 08:29:45 AM</td>\n",
       "      <td>3179</td>\n",
       "      <td>501</td>\n",
       "      <td>77</td>\n",
       "      <td>Subscriber</td>\n",
       "      <td>Male</td>\n",
       "      <td>41.882242</td>\n",
       "      <td>-87.641066</td>\n",
       "      <td>41</td>\n",
       "    </tr>\n",
       "  </tbody>\n",
       "</table>\n",
       "</div>"
      ],
      "text/plain": [
       "               START TIME  BIKE ID  TRIP DURATION  FROM STATION ID  \\\n",
       "0  04/03/2019 08:29:54 AM     5313            537               18   \n",
       "1  04/03/2019 08:29:52 AM     5884            224              137   \n",
       "2  04/03/2019 08:29:52 AM     4048           1085              210   \n",
       "3  04/03/2019 08:29:50 AM     2638            309               96   \n",
       "4  04/03/2019 08:29:45 AM     3179            501               77   \n",
       "\n",
       "    USER TYPE GENDER  FROM LATITUDE  FROM LONGITUDE  AGE  \n",
       "0  Subscriber   Male      41.883132      -87.637321   37  \n",
       "1  Subscriber   Male      41.862378      -87.651062   54  \n",
       "2  Subscriber   Male      41.903450      -87.667747   32  \n",
       "3  Subscriber   Male      41.884616      -87.644571   31  \n",
       "4  Subscriber   Male      41.882242      -87.641066   41  "
      ]
     },
     "execution_count": 65,
     "metadata": {},
     "output_type": "execute_result"
    }
   ],
   "source": [
    "bike_clean = bike_clean_1.drop(['TRIP ID', 'STOP TIME','FROM STATION NAME','TO STATION ID',\n",
    "                               'TO STATION NAME','FROM LOCATION','TO LATITUDE',\n",
    "                               'TO LONGITUDE','TO LOCATION','BIRTH YEAR'], axis=1)\n",
    "bike_clean.head()"
   ]
  },
  {
   "cell_type": "code",
   "execution_count": 66,
   "id": "7fb37cfb",
   "metadata": {},
   "outputs": [],
   "source": [
    "# for Milestone 2: new csv file with cleaned bike data\n",
    "bike_clean.to_csv('bike_data_clean.csv', index=False)"
   ]
  },
  {
   "cell_type": "markdown",
   "id": "dacbac6f",
   "metadata": {},
   "source": [
    "# Data Engineering Ideas and Progress\n",
    "\n",
    "Features to **KEEP**:\n",
    "+ `START TIME`: Has a high variance and provides much explanatory power - **DONE** \n",
    "+ `BIKE ID`: Keep for now. While individual bike IDs might not seem predictive, they could capture effects of bike age, maintenance, or type if certain ID ranges correspond to different bike characteristics (though such details are not included in the dataset, further considerations needed)\n",
    "+ `FROM STATION ID`: Crucial, Trip duration is heavily dependent on its origin. - **DONE** \n",
    "+ `USER TYPE`: Important. Subscribers and casual customers often exhibit different usage patterns. - **DONE** \n",
    "+ `GENDER`: Potentially useful demographic information. - **DONE** \n",
    "\n",
    "Features to **REMOVE**:\n",
    "+ `TRIP ID`: This is a unique identifier for each row and generally holds no predictive power for the duration of other trips. - **DONE** \n",
    "+ `STOP TIME`: Using this directly would be a data leak, as it inherently defines the trip duration when combined with START TIME - **DONE** \n",
    "+ `FROM LONGITUDE`, `FROM LATITUDE`: Direct corellation to `STATION ID`, since Divvy bikes can only be picked up/ returned on authorised stations, it is sufficient to then only include `STATION ID`. - **DONE**  (However these features might be important for geographical/ demographic data expansion, this point could be revised in the future if needed)\n",
    "+ `TO STATION ID`, `TO LATTITUDE`, `TO LONGTITUDE`, `TO LOCATION`: After further research on Divvy services, it seeems the user merely pays for the time frame and not for the distance, since the app won't ask for a destination beforehand (like Uber), therefore the destination cannot be used to predict the duration - **DONE** \n",
    "+ `FROM STATION NAME` and `TO STATION NAME`: These are likely redundant if FROM STATION ID and TO STATION ID are clean and used - **DONE**  \n",
    "+ `FROM LOCATION`: This information is covered by `FROM LONGITUDE` and `FROM LATITUDE` - **DONE** \n",
    "\n",
    "Features to **ADD**:\n",
    "+ Temporal Features (from START TIME):\n",
    "    + HourOfDay\n",
    "    + DayOfWeek\n",
    "    + PartOfDay: Categorical feature (e.g., morning, afternoon, evening, night) based on HourOfDay.\n",
    "+ AGE, calculated from BIRTH YEAR - **DONE** \n",
    "+ Weather Data:\n",
    "    + Temperature\n",
    "    + WindSpeed\n",
    "    + Precipitation\n",
    "+ Location-based Features:\n",
    "    + ZoningDesignation (e.g. residential, business)\n",
    "    + IncomeLevel\n",
    "    + Other interesting demographic details (if found)"
   ]
  }
 ],
 "metadata": {
  "kernelspec": {
   "display_name": "DSML_env",
   "language": "python",
   "name": "python3"
  },
  "language_info": {
   "codemirror_mode": {
    "name": "ipython",
    "version": 3
   },
   "file_extension": ".py",
   "mimetype": "text/x-python",
   "name": "python",
   "nbconvert_exporter": "python",
   "pygments_lexer": "ipython3",
   "version": "3.13.2"
  }
 },
 "nbformat": 4,
 "nbformat_minor": 5
}
